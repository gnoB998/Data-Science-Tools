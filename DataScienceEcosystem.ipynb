{
 "cells": [
  {
   "cell_type": "markdown",
   "id": "59081647",
   "metadata": {},
   "source": [
    "# Data Science Tools and Ecosystem"
   ]
  },
  {
   "cell_type": "markdown",
   "id": "5fa60960",
   "metadata": {},
   "source": [
    "## Author\n",
    "Duc Huynh"
   ]
  },
  {
   "cell_type": "markdown",
   "id": "27eee7bf",
   "metadata": {},
   "source": [
    "In this notebook, Data Science Tools and Ecosystem are summarized."
   ]
  },
  {
   "cell_type": "markdown",
   "id": "53d96909",
   "metadata": {},
   "source": [
    "#### Objectives:\n",
    "* List popular languages for Data Science\n",
    "* List libraries for specific purposes \n",
    "* Learn how to use some basic tools for Data Science\n",
    "* Practicing"
   ]
  },
  {
   "cell_type": "markdown",
   "id": "5cc76f79",
   "metadata": {},
   "source": [
    "Some of the popular languages that Data Scientists use are: \n",
    "1. Python\n",
    "2. SQL\n",
    "3. R\n",
    "4. Julia"
   ]
  },
  {
   "cell_type": "markdown",
   "id": "a89ae147",
   "metadata": {},
   "source": [
    "Some of the commonly used libraries used by Data Scientists include:\n",
    "* Pandas\n",
    "* Numpy\n",
    "* Matplotlib\n",
    "* Scikit-learn"
   ]
  },
  {
   "cell_type": "markdown",
   "id": "bdca6739",
   "metadata": {},
   "source": [
    "| Data Science Tools |\n",
    "| :-: |\n",
    "| Jupyter Notebook |\n",
    "| Jupyter Lab |\n",
    "| Rstudio |"
   ]
  },
  {
   "attachments": {},
   "cell_type": "markdown",
   "id": "43ab4fd0",
   "metadata": {},
   "source": [
    "### Below are a few examples of evaluating arithmetic expression in Python"
   ]
  },
  {
   "cell_type": "code",
   "execution_count": 1,
   "id": "a417de50",
   "metadata": {},
   "outputs": [
    {
     "data": {
      "text/plain": [
       "17"
      ]
     },
     "execution_count": 1,
     "metadata": {},
     "output_type": "execute_result"
    }
   ],
   "source": [
    "\"\"\"This a simple arithmetic expression to mutiply then add integers\"\"\"\n",
    "(3*4)+5"
   ]
  },
  {
   "cell_type": "code",
   "execution_count": 5,
   "id": "0da7b514",
   "metadata": {},
   "outputs": [
    {
     "name": "stdout",
     "output_type": "stream",
     "text": [
      "200 minutes are equal to 3 hour 20 minutes\n"
     ]
    }
   ],
   "source": [
    "\"\"\"This will convert 200 minutes to hours by diving by 60\"\"\"\n",
    "a = (200//60)\n",
    "b = (200%60)\n",
    "print (\"200 minutes are equal to\",str(a), \"hour\", str(b), \"minutes\")"
   ]
  },
  {
   "cell_type": "code",
   "execution_count": null,
   "id": "f8501d9d",
   "metadata": {},
   "outputs": [],
   "source": []
  }
 ],
 "metadata": {
  "kernelspec": {
   "display_name": "Python 3 (ipykernel)",
   "language": "python",
   "name": "python3"
  },
  "language_info": {
   "codemirror_mode": {
    "name": "ipython",
    "version": 3
   },
   "file_extension": ".py",
   "mimetype": "text/x-python",
   "name": "python",
   "nbconvert_exporter": "python",
   "pygments_lexer": "ipython3",
   "version": "3.10.9"
  }
 },
 "nbformat": 4,
 "nbformat_minor": 5
}
